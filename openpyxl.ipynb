{
  "nbformat": 4,
  "nbformat_minor": 0,
  "metadata": {
    "colab": {
      "provenance": []
    },
    "kernelspec": {
      "name": "python3",
      "display_name": "Python 3"
    },
    "language_info": {
      "name": "python"
    }
  },
  "cells": [
    {
      "cell_type": "code",
      "execution_count": null,
      "metadata": {
        "id": "kme75VqPXOxa"
      },
      "outputs": [],
      "source": [
        "import openpyxl\n",
        "from openpyxl import Workbook\n",
        "from openpyxl.chart import BarChart, LineChart, Reference\n",
        "from openpyxl.utils.dataframe import dataframe_to_rows\n",
        "import pandas as pd\n",
        "import numpy as np\n",
        "\n",
        "sales=pd.read_excel('demodata.xlsx',sheet_name='Sales Report')\n",
        "\n",
        "expenses=pd.read_excel('demodata.xlsx',sheet_name='Expense Report')\n",
        "paylater=pd.read_excel('demodata.xlsx',sheet_name='Pay Later')\n",
        "products=pd.read_excel('demodata.xlsx',sheet_name='Products Services')\n",
        "Clients=pd.read_excel('demodata.xlsx',sheet_name='Clients')\n",
        "\n",
        "sales.head()\n",
        "\n",
        "with pd.ExcelWriter('demo2.xlsx',engine=\"openpyxl\") as writer:\n",
        "  sales.to_excel(writer, sheet_name='Sales Report',index=False)\n",
        "  expenses.to_excel(writer, sheet_name='Expenses Report',index=False)\n",
        "  paylater.to_excel(writer, sheet_name='Pay Later',index=False)\n",
        "  products.to_excel(writer, sheet_name='Products Services',index=False)\n",
        "  Clients.to_excel(writer, sheet_name='Clients',index=False)\n",
        "\n",
        "wb = writer.book\n",
        "sheet = writer.sheets['Sales Report']\n",
        "chart = BarChart()\n",
        "chart.type = \"col\"\n",
        "chart.title = \"Sales Report\"\n",
        "chart.height = 11.5\n",
        "chart.width = 20.5\n",
        "\n",
        "data = Reference(sheet, min_col=4, min_row=1,\n",
        "                     max_row=len(sales)+1,\n",
        "                     max_col=4)\n",
        "categories = Reference(sheet, min_col=1, min_row=1,\n",
        "                           max_row=len(sales)+1,max_col=1)\n",
        "chart.add_data(data, titles_from_data=True)\n",
        "chart.set_categories(categories)\n",
        "sheet.add_chart(chart=chart, anchor='I2')"
      ]
    },
    {
      "cell_type": "code",
      "source": [],
      "metadata": {
        "id": "kH-POYffawxJ"
      },
      "execution_count": null,
      "outputs": []
    }
  ]
}